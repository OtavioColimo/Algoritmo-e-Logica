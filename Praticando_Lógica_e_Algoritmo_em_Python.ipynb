{
  "nbformat": 4,
  "nbformat_minor": 0,
  "metadata": {
    "colab": {
      "provenance": [],
      "authorship_tag": "ABX9TyNoNppDXDskVt03rFxxC6yo",
      "include_colab_link": true
    },
    "kernelspec": {
      "name": "python3",
      "display_name": "Python 3"
    },
    "language_info": {
      "name": "python"
    }
  },
  "cells": [
    {
      "cell_type": "markdown",
      "metadata": {
        "id": "view-in-github",
        "colab_type": "text"
      },
      "source": [
        "<a href=\"https://colab.research.google.com/github/OtavioColimo/Algoritmo-e-Logica/blob/main/Praticando_L%C3%B3gica_e_Algoritmo_em_Python.ipynb\" target=\"_parent\"><img src=\"https://colab.research.google.com/assets/colab-badge.svg\" alt=\"Open In Colab\"/></a>"
      ]
    },
    {
      "cell_type": "markdown",
      "source": [
        "1) Faça um algoritmo que contenha as seguintes variáveis do tipo Real:\n",
        "vvalor, vaumento com valor atribuído manualmente com “=“ para a\n",
        "variável vvalor. FAÇA O CÁLCULO DA VARIÁVEL vaumento SABENDO QUE\n",
        "ESSA RECEBERÁ O VALOR (=) DA VARIÁVEL VVALOR COM O ACRÉSCIMO\n",
        "10% DE AUMENTO"
      ],
      "metadata": {
        "id": "y3dqpNEEehs4"
      }
    },
    {
      "cell_type": "code",
      "execution_count": null,
      "metadata": {
        "colab": {
          "base_uri": "https://localhost:8080/"
        },
        "id": "EJiTEFfndMhh",
        "outputId": "94d1020e-ceae-4e81-d040-b9b7e5f88759"
      },
      "outputs": [
        {
          "output_type": "stream",
          "name": "stdout",
          "text": [
            "Valor com aumento: 3938.00\n"
          ]
        }
      ],
      "source": [
        "vvalor = 3580\n",
        "vaumento = vvalor * 1.10\n",
        "print('Valor com aumento: %.2f'%vaumento)\n"
      ]
    },
    {
      "cell_type": "markdown",
      "source": [],
      "metadata": {
        "id": "tASGbMw-egRh"
      }
    },
    {
      "cell_type": "markdown",
      "source": [
        "2) Faça um algoritmo que contenha as seguintes variáveis do tipo Real: p1,\n",
        "p2, at e media com valores atribuídos por você a essas variáveis, com\n",
        "exceção da variável media. FAÇA O CÁLCULO DA VARIÁVEL media!"
      ],
      "metadata": {
        "id": "pX-5VPM9g81h"
      }
    },
    {
      "cell_type": "code",
      "source": [
        "p1 = 7\n",
        "p2 = 7\n",
        "at = 2\n",
        "Media = (p1 + p2 + at) / 3\n",
        "print (f'valor media: {Media}')"
      ],
      "metadata": {
        "colab": {
          "base_uri": "https://localhost:8080/"
        },
        "id": "E24SEXZ-h4iB",
        "outputId": "48a5d3a1-5f81-4162-a336-d3c72a2b001c"
      },
      "execution_count": null,
      "outputs": [
        {
          "output_type": "stream",
          "name": "stdout",
          "text": [
            "valor media: 5.333333333333333\n"
          ]
        }
      ]
    },
    {
      "cell_type": "markdown",
      "source": [
        "3) Converta o algoritmo abaixo para Python:\n",
        "Algoritmo \"escr\"\n",
        "Var preco_unit, preco_tot :real\n",
        " quant : inteiro\n",
        "Inicio\n",
        " escreva(\"Preço Unitário:\")\n",
        " leia(preco_unit)\n",
        " escreva(\"Quantidade:\")\n",
        " leia(quant)\n",
        " preco_tot := preco_unit * quant\n",
        " escreva(\"Preço Total: \",preco_tot)\n",
        "FimAlgoritmo\n"
      ],
      "metadata": {
        "id": "d43YSJx-i-w5"
      }
    },
    {
      "cell_type": "code",
      "source": [
        "preco_unit = float(input('valor unitário: '))\n",
        "quant = int(input('quantidade: '))\n",
        "\n",
        "preco_tot = preco_unit * quant\n",
        "\n",
        "print (f'Preco total da compra foi de: {preco_tot}')"
      ],
      "metadata": {
        "colab": {
          "base_uri": "https://localhost:8080/"
        },
        "id": "-RBwHF8qjGvi",
        "outputId": "c2d27515-351f-4600-8b34-9c746291896d"
      },
      "execution_count": null,
      "outputs": [
        {
          "output_type": "stream",
          "name": "stdout",
          "text": [
            "valor unitário: 19.99\n",
            "quantidade: 4\n",
            "Preco total da compra foi de: 79.96\n"
          ]
        }
      ]
    },
    {
      "cell_type": "markdown",
      "source": [
        "4) Faça um algoritmo que o usuário entre com extensão e um dos lados\n",
        "de um quadrado calcule e mostre a área do quadrado calculada. Em\n",
        "seguida mostre o dobro desta área para o usuário."
      ],
      "metadata": {
        "id": "uUbyOZComh-i"
      }
    },
    {
      "cell_type": "code",
      "source": [
        "L = float(input('Tamanho lado do quadrado: '))\n",
        "AQ = L * 4\n",
        "\n",
        "print (f'Area do quadrado = {AQ}')"
      ],
      "metadata": {
        "colab": {
          "base_uri": "https://localhost:8080/"
        },
        "id": "L_CaXqLImoo0",
        "outputId": "698dcf05-aeb5-4ac6-b42c-6de1be3ee031"
      },
      "execution_count": null,
      "outputs": [
        {
          "output_type": "stream",
          "name": "stdout",
          "text": [
            "Tamanho lado do quadrado: 5\n",
            "Area do quadrado = 20.0\n"
          ]
        }
      ]
    },
    {
      "cell_type": "markdown",
      "source": [
        "5) Elabore um algoritmo que receba do usuário o valor do salário\u0002mínimo e o valor do salário de um funcionário. Calcule e mostre a\n",
        "quantidade de salários-mínimos que ganha esse\n",
        "funcionário."
      ],
      "metadata": {
        "id": "rmm_o8g0mmLC"
      }
    },
    {
      "cell_type": "code",
      "source": [
        "SM = float(input('Valor Sálario Minimo: '))\n",
        "SF = float(input('Valor Sálario Funcionario: '))\n",
        "\n",
        "Q_SM = (SF/SM)\n",
        "\n",
        "print (f'Quantidade de salarios minitos que o funcioario recebe: {Q_SM}')"
      ],
      "metadata": {
        "colab": {
          "base_uri": "https://localhost:8080/"
        },
        "id": "VeEaGbCjmrz7",
        "outputId": "b687673c-d251-4004-df3c-9e91947911c8"
      },
      "execution_count": null,
      "outputs": [
        {
          "output_type": "stream",
          "name": "stdout",
          "text": [
            "Valor Sálario Minimo: 1300\n",
            "Valor Sálario Funcionario: 2600\n",
            "Quantidade de salarios minitos que o funcioario recebe: 2.0\n"
          ]
        }
      ]
    },
    {
      "cell_type": "markdown",
      "source": [
        "6) Crie um algoritmo que receba o número a calcular,\n",
        "calcule e mostre a tabuada de um número fornecido pelo\n",
        "usuário."
      ],
      "metadata": {
        "id": "76W9y1ROmsMi"
      }
    },
    {
      "cell_type": "code",
      "source": [
        "N = int(input('Qual tabuada quer?'))\n",
        "\n",
        "for i in range(1, 11):\n",
        "    resultado = N * i\n",
        "    print(f\"{N} x {i} = {resultado}\")"
      ],
      "metadata": {
        "colab": {
          "base_uri": "https://localhost:8080/"
        },
        "id": "iSl0nAxjmt46",
        "outputId": "a229b634-0582-4b8d-f9da-e148e124a036"
      },
      "execution_count": null,
      "outputs": [
        {
          "output_type": "stream",
          "name": "stdout",
          "text": [
            "Qual tabuada quer?2\n",
            "2 x 1 = 2\n",
            "2 x 2 = 4\n",
            "2 x 3 = 6\n",
            "2 x 4 = 8\n",
            "2 x 5 = 10\n",
            "2 x 6 = 12\n",
            "2 x 7 = 14\n",
            "2 x 8 = 16\n",
            "2 x 9 = 18\n",
            "2 x 10 = 20\n"
          ]
        }
      ]
    },
    {
      "cell_type": "markdown",
      "source": [
        "7) Faça um algoritmo que receba do usuário o preço do\n",
        "produto, calcule e mostre o novo preço, sabendo que este\n",
        "sofreu um desconto% que será passado pelo usuário.\n"
      ],
      "metadata": {
        "id": "Lm6g1Do_muYC"
      }
    },
    {
      "cell_type": "code",
      "source": [
        "Produto = float(input ('preco produto: '))\n",
        "Desconto = float(input ('desconto em %: '))\n",
        "\n",
        "vDesconto = (Desconto / 100) * Produto\n",
        "nPreco = Produto - vDesconto\n",
        "\n",
        "print (f'Preco do produtos atualizado: {nPreco}')"
      ],
      "metadata": {
        "colab": {
          "base_uri": "https://localhost:8080/"
        },
        "id": "iBOaGqhTmwoz",
        "outputId": "68c96931-8b5d-49fb-dc53-1da7a236c4ce"
      },
      "execution_count": null,
      "outputs": [
        {
          "output_type": "stream",
          "name": "stdout",
          "text": [
            "preco produto: 10\n",
            "desconto em %: 10\n",
            "Preco do produtos atualizado: 9.0\n"
          ]
        }
      ]
    },
    {
      "cell_type": "markdown",
      "source": [
        "8) Elabore um algoritmo que receba o ano de Nascimento de uma\n",
        "pessoa e o ano atual. Calcule e mostre: A) A idade da pessoa; B)\n",
        "Quantos anos ela terá em 2039."
      ],
      "metadata": {
        "id": "lBwaL6Dkmw-C"
      }
    },
    {
      "cell_type": "code",
      "source": [
        "aTual = int(input('Digite o ano atual: '))\n",
        "aNasc = int(input('Digite o ano de nascimento: '))\n",
        "\n",
        "iP = aTual - aNasc\n",
        "print (f'idade da pessoa: {iP}')\n",
        "\n",
        "aF = 2039 - aNasc\n",
        "print (f'idade da pessoa em 2039: {aF}')\n"
      ],
      "metadata": {
        "colab": {
          "base_uri": "https://localhost:8080/"
        },
        "id": "C7cCpnjomzqD",
        "outputId": "10dafb19-c25c-4a09-92fc-78594e7e21ff"
      },
      "execution_count": null,
      "outputs": [
        {
          "output_type": "stream",
          "name": "stdout",
          "text": [
            "Digite o ano atual: 2023\n",
            "Digite o ano de nascimento: 2001\n",
            "idade da pessoa: 22\n",
            "idade da pessoa em 2039: 38\n"
          ]
        }
      ]
    },
    {
      "cell_type": "markdown",
      "source": [
        "9) Sabe-se que:\n",
        "1 Pé é igual a 12 polegadas\n",
        "1 Jarda é igual a 3 Pés\n",
        "1 Milha é igual a 300 Jardas\n",
        "... Sendo assim, desenvolva um algoritmo que receba uma medida\n",
        "em Pés. Faça as conversões e mostre os resultados para:\n",
        "a) Polegadas\n",
        "b) Jardas\n",
        "c) Milhas"
      ],
      "metadata": {
        "id": "Z1zy6mUEmz-a"
      }
    },
    {
      "cell_type": "code",
      "source": [
        "pe = float(input('Digite a medida em Pés:') )\n",
        "\n",
        "print(f'A conversão de {pe} pé é {pe *12} polegadas')\n",
        "print(f'A conversão de {pe} pé é {pe / 3} Jardas')\n",
        "print(f'A conversão de {pe} pé é {pe / 3000} milhas')"
      ],
      "metadata": {
        "id": "ErmiusN7m2iD",
        "colab": {
          "base_uri": "https://localhost:8080/"
        },
        "outputId": "a8f0dbcb-11b4-44ee-93a0-53f98b921734"
      },
      "execution_count": null,
      "outputs": [
        {
          "output_type": "stream",
          "name": "stdout",
          "text": [
            "Digite a medida em Pés:1\n",
            "A conversão de 1.0 pé é 12.0 polegadas\n",
            "A conversão de 1.0 pé é 0.3333333333333333 Jardas\n",
            "A conversão de 1.0 pé é 0.0003333333333333333 milhas\n"
          ]
        }
      ]
    },
    {
      "cell_type": "markdown",
      "source": [
        "10) Faça um Algoritmo que receba o valor de um depósito bancário\n",
        "e o valor da taxa de juros. Calcule e imprima o valor do rendimento do\n",
        "primeiro mês e o valor total do rendimento somado ao valor do\n",
        "depósito."
      ],
      "metadata": {
        "id": "SlDWoViqm2_T"
      }
    },
    {
      "cell_type": "code",
      "source": [
        "dep = float(input('Digite o valor do depósito: '))\n",
        "jur = float(input('Digite o valor da taxa de juros em porcentagem: '))\n",
        "\n",
        "print(f'O rendimento do primeiro mês foi de: {dep * (jur/100)}')\n",
        "print(f'O saldo atual é de: {(dep * (jur/100)) + dep}')"
      ],
      "metadata": {
        "id": "4GDsj3mWm4qy",
        "colab": {
          "base_uri": "https://localhost:8080/"
        },
        "outputId": "1dd5672f-bbd2-4a76-b1f0-381c949127b5"
      },
      "execution_count": null,
      "outputs": [
        {
          "output_type": "stream",
          "name": "stdout",
          "text": [
            "Digite o valor do depósito: 100\n",
            "Digite o valor da taxa de juros em porcentagem: 10\n",
            "O rendimento do primeiro mês foi de: 10.0\n",
            "O saldo atual é de: 110.0\n"
          ]
        }
      ]
    },
    {
      "cell_type": "markdown",
      "source": [
        "11 Elabore um programa que receba o nome do funcionário, o valor do salário bruto e o percentual de imposto sobre o salário, calcule o salário líquido e escreva na tela uma resposta como no exemplo abaixo: O salário líquido do funcionário FULANO DE TAL é R$: 999,99"
      ],
      "metadata": {
        "id": "1VdxiCsRmkAi"
      }
    },
    {
      "cell_type": "code",
      "source": [
        "NF = input('Digite o nome do funcionario:')\n",
        "SB = float(input('Digite o salário bruto do funcionario:'))\n",
        "IMP = float(input('Digite o imposto sobre o salário: '))\n",
        "\n",
        "print(f'O salário liquido do funcioario {NF} é de { SB -(SB*(IMP/100))} reais')"
      ],
      "metadata": {
        "colab": {
          "base_uri": "https://localhost:8080/"
        },
        "id": "V8-sGFQQmy4Y",
        "outputId": "af0ded87-bf0b-44d9-98c3-9ffc3ee589af"
      },
      "execution_count": null,
      "outputs": [
        {
          "output_type": "stream",
          "name": "stdout",
          "text": [
            "Digite o nome do funcionario:marcos\n",
            "Digite o salário bruto do funcionario:1000\n",
            "Digite o imposto sobre o salário: 10\n",
            "O salário liquido do funcioario marcos é de 900.0 reais\n"
          ]
        }
      ]
    },
    {
      "cell_type": "markdown",
      "source": [
        "12 Faça um programa que receba o salário de um funcionário, calcule e imprima o novo salário, sabendo que sofreu um aumento % e será passado pelo usuário."
      ],
      "metadata": {
        "id": "oltcPqzxmzbC"
      }
    },
    {
      "cell_type": "code",
      "source": [
        "SF = float(input('Digite o salário do funcionário:'))\n",
        "AU = float(input('Digite a porcentagem de aumento que o salário do funcionário teve:'))\n",
        "\n",
        "print(f'O novo salário do funcionário será de {(SF + (SF*(AU/100)))}')"
      ],
      "metadata": {
        "colab": {
          "base_uri": "https://localhost:8080/"
        },
        "id": "S7d8ZQNrmzwm",
        "outputId": "6e69ef92-5762-4653-c7cb-82faaf5ad5ef"
      },
      "execution_count": null,
      "outputs": [
        {
          "output_type": "stream",
          "name": "stdout",
          "text": [
            "Digite o salário do funcionário:1000\n",
            "Digite a porcentagem de aumento que o salário do funcionário teve:10\n",
            "O novo salário do funcionário será de 1100.0\n"
          ]
        }
      ]
    },
    {
      "cell_type": "markdown",
      "source": [
        "13 Escreva um algoritmo para ler os dados de eleitores de um município já somados:\n",
        "- O número de votos brancos;\n",
        "- Votos nulos;\n",
        "- Votos válidos.\n",
        "Calcular e escrever:\n",
        "- O Total de eleitores;\n",
        "- O percentual que cada um representa em relação ao total de eleitores."
      ],
      "metadata": {
        "id": "p_qSJPZ5m0G1"
      }
    },
    {
      "cell_type": "code",
      "source": [
        "VB = float(input('Digite o numero de fotos Brancos:'))\n",
        "VN = float(input('Digite o numero de fotos Nulos:'))\n",
        "VV = float(input('Digite o numero de fotos Válidos:'))\n",
        "\n",
        "TE = VB + VN + VV\n",
        "\n",
        "print(f'O total de eleitores é de {TE}')\n",
        "print(f'A porcentagem de votos brancos foi de {(VB*100)/ TE}')\n",
        "print(f'A porcentagem de votos nulos foi de {(VN*100)/ TE}')\n",
        "print(f'A porcentagem de votos brancos válidos foi de {(VV*100)/ TE}')"
      ],
      "metadata": {
        "colab": {
          "base_uri": "https://localhost:8080/"
        },
        "id": "IQOraaNxm0ov",
        "outputId": "2e8c70d4-f3ed-4198-c67b-5efa118d5213"
      },
      "execution_count": null,
      "outputs": [
        {
          "output_type": "stream",
          "name": "stdout",
          "text": [
            "Digite o numero de fotos Brancos:1000\n",
            "Digite o numero de fotos Nulos:1000\n",
            "Digite o numero de fotos Válidos:1000\n",
            "O total de eleitores é de 3000.0\n",
            "A porcentagem de votos brancos foi de 33.333333333333336\n",
            "A porcentagem de votos nulos foi de 33.333333333333336\n",
            "A porcentagem de votos brancos válidos foi de 33.333333333333336\n"
          ]
        }
      ]
    },
    {
      "cell_type": "markdown",
      "source": [
        "14 Construa um algoritmo que leia 2 valores (reais) para as variáveis A e B, e efetue a troca dos valores de forma que a variável A passe a possuir o valor da variável B e a variável B passe a possuir o valor da variável A. Apresentar os valores trocados."
      ],
      "metadata": {
        "id": "jAYzvS0tm09p"
      }
    },
    {
      "cell_type": "code",
      "source": [
        "A = float(input('Digite o valor de A:'))\n",
        "B = float(input('Digite o valor de B:'))\n",
        "C = A\n",
        "A = B\n",
        "B = C\n",
        "\n",
        "print(f'O valor de A é {A} o valor de B é {B}')"
      ],
      "metadata": {
        "colab": {
          "base_uri": "https://localhost:8080/"
        },
        "id": "DVU0onwdm1SI",
        "outputId": "62e9dd4f-e695-4257-aedc-f5d5e0b48b6e"
      },
      "execution_count": null,
      "outputs": [
        {
          "output_type": "stream",
          "name": "stdout",
          "text": [
            "Digite o valor de A:10\n",
            "Digite o valor de B:20\n",
            "O valor de A é 20.0 o valor de B é 10.0\n"
          ]
        }
      ]
    },
    {
      "cell_type": "markdown",
      "source": [
        "15 Algoritmo que receba o valor do combustível; a quantidade de quilômetros que o carro gasta por litro e os quilômetros que serão percorridos. Escreva na tela:\n",
        "- Quantos litros serão gastos no percurso e\n",
        "- O valor gasto com combustível."
      ],
      "metadata": {
        "id": "6LfZ87KZm1uU"
      }
    },
    {
      "cell_type": "code",
      "source": [
        "VC = float(input('Digite o valor do combustivel: R$'))\n",
        "AUT = float(input('Digite a autonomida do carro em Km por Litro: '))\n",
        "KMperco = float(input('Digite o KM percorido: '))\n",
        "\n",
        "print(f'Serão gastos {KMperco / AUT} litros de gasolina')\n",
        "print(f'Serão gastos { VC * (KMperco / AUT)} reais')"
      ],
      "metadata": {
        "colab": {
          "base_uri": "https://localhost:8080/"
        },
        "id": "VPBA6Ji4m3Jw",
        "outputId": "008812b0-2680-499d-ee7b-e91c16c35fc2"
      },
      "execution_count": null,
      "outputs": [
        {
          "output_type": "stream",
          "name": "stdout",
          "text": [
            "Digite o valor do combustivel: R$5\n",
            "Digite a autonomida do carro em Km por Litro: 10\n",
            "Digite o KM percorido: 100\n",
            "Serão gastos 10.0 litros de gasolina\n",
            "Serão gastos 50.0 reais\n"
          ]
        }
      ]
    },
    {
      "cell_type": "markdown",
      "source": [
        "16 Faça um algoritmo que receba os valores de dia, mês e ano separadamente e escreva a data na tela. Exemplo: 25/09/2023."
      ],
      "metadata": {
        "id": "xLtMs5fGm3mg"
      }
    },
    {
      "cell_type": "code",
      "source": [
        "D = int(input('Digite o dia: '))\n",
        "M = int(input('Digite o mês: '))\n",
        "A = int(input('Digite o ano: '))\n",
        "\n",
        "print(f'{D}/{M}/{A}')"
      ],
      "metadata": {
        "colab": {
          "base_uri": "https://localhost:8080/"
        },
        "id": "6ZXvERPLm389",
        "outputId": "e3708501-0654-4196-b244-fc992220a9ba"
      },
      "execution_count": null,
      "outputs": [
        {
          "output_type": "stream",
          "name": "stdout",
          "text": [
            "Digite o dia: 10\n",
            "Digite o mês: 07\n",
            "Digite o ano: 2001\n",
            "10/7/2001\n"
          ]
        }
      ]
    },
    {
      "cell_type": "markdown",
      "source": [
        "17 Desenvolva um algoritmo que receba do usuário um número inteiro e o valor(número) da potência que este número será calculado. Calcule e escreva na tela uma mensagem conforme este modelo: O valor:  5  elevado a  3  é:  125."
      ],
      "metadata": {
        "id": "qreUkqQNm4eK"
      }
    },
    {
      "cell_type": "code",
      "source": [
        "N = int(input('Digite o numero a ser elevado: '))\n",
        "P = int(input('Digite a potência: '))\n",
        "\n",
        "print(f'O valor: {N} elevado a {P} é {N**P}')"
      ],
      "metadata": {
        "colab": {
          "base_uri": "https://localhost:8080/"
        },
        "id": "-8Q9jL5am4vV",
        "outputId": "37a7a105-7e71-4a33-9df9-a089f65d5aa7"
      },
      "execution_count": null,
      "outputs": [
        {
          "output_type": "stream",
          "name": "stdout",
          "text": [
            "Digite o numero a ser elevado: 5\n",
            "Digite a potência: 3\n",
            "O valor: 5 elevado a 3 é 125\n"
          ]
        }
      ]
    },
    {
      "cell_type": "markdown",
      "source": [
        "18 Sabendo que o cálculo para conversão de graus Fahrenheit para graus Celsius é C = 5 * ((F-32) / 9) desenvolva um algoritmo em que o usuário digite o valor de graus Fahrenheit calcule e mostre o resultado em grau Celsius."
      ],
      "metadata": {
        "id": "xylF6e__m5Os"
      }
    },
    {
      "cell_type": "code",
      "source": [
        "F = float(input('Digite a temperatura em Fahrenheit: '))\n",
        "\n",
        "print(f'A conversão de {F} Fahrenheit para Celsius é {5 * ((F-32)/9):,.2f} Celsius')"
      ],
      "metadata": {
        "colab": {
          "base_uri": "https://localhost:8080/"
        },
        "id": "lk4DyhI2m5g9",
        "outputId": "90135b2e-8d6f-46fb-851a-d03c2a8e641a"
      },
      "execution_count": null,
      "outputs": [
        {
          "output_type": "stream",
          "name": "stdout",
          "text": [
            "Digite a temperatura em Fahrenheit: 100\n",
            "A conversão de 100.0 Fahrenheit para Celsius é 37.78 Celsius\n"
          ]
        }
      ]
    },
    {
      "cell_type": "markdown",
      "source": [
        "19 Crie um programa em Python que receba um valor, calcule a raiz quadra e print uma mensagem conforme o modelo: A Raiz quadrada de:  25  é  5.0"
      ],
      "metadata": {
        "id": "SQdGTf7jm5-f"
      }
    },
    {
      "cell_type": "code",
      "source": [
        "V = int(input('Digite o valor que deseja a raiz quadrada: '))\n",
        "\n",
        "print(f'A raiz quadrada de {V} é {V**(1/2)}')"
      ],
      "metadata": {
        "colab": {
          "base_uri": "https://localhost:8080/"
        },
        "id": "ixsldV35m6PQ",
        "outputId": "2349a567-8a21-4097-beaf-7312f0a73507"
      },
      "execution_count": null,
      "outputs": [
        {
          "output_type": "stream",
          "name": "stdout",
          "text": [
            "Digite o valor que deseja a raiz quadrada: 81\n",
            "A raiz quadrada de 81 é 9.0\n"
          ]
        }
      ]
    },
    {
      "cell_type": "markdown",
      "source": [
        "20 Compreendendo também que a conversão de celsius para fahrenheit é f = (celsius * 9 / 5) + 32, desenvolva um algoritmo que receba o valor em celsius e converta para Fahrenheit."
      ],
      "metadata": {
        "id": "gyeCbkcsm7ne"
      }
    },
    {
      "cell_type": "code",
      "source": [
        "C = float(input('Digite a temperatura em Celcius: '))\n",
        "\n",
        "print(f'A conversão de {C} Celsius para Fahrenheit é {(C * 9/5)+32} Celsius')"
      ],
      "metadata": {
        "colab": {
          "base_uri": "https://localhost:8080/"
        },
        "id": "GCrVKChSm75_",
        "outputId": "0f420c1d-9bd1-41be-a3f9-afe71ff43a2f"
      },
      "execution_count": null,
      "outputs": [
        {
          "output_type": "stream",
          "name": "stdout",
          "text": [
            "Digite a temperatura em Celcius: 37\n",
            "A conversão de 37.0 Celsius para Fahrenheit é 98.6 Celsius\n"
          ]
        }
      ]
    }
  ]
}