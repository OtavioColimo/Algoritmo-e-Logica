{
  "nbformat": 4,
  "nbformat_minor": 0,
  "metadata": {
    "colab": {
      "provenance": [],
      "authorship_tag": "ABX9TyOrzOyCoEPQkel3AhW9AicN",
      "include_colab_link": true
    },
    "kernelspec": {
      "name": "python3",
      "display_name": "Python 3"
    },
    "language_info": {
      "name": "python"
    }
  },
  "cells": [
    {
      "cell_type": "markdown",
      "metadata": {
        "id": "view-in-github",
        "colab_type": "text"
      },
      "source": [
        "<a href=\"https://colab.research.google.com/github/OtavioColimo/Algoritmo-e-Logica/blob/main/Praticando_Algoritmo_e_L%C3%B3gica_em_Phyton_Part_2.ipynb\" target=\"_parent\"><img src=\"https://colab.research.google.com/assets/colab-badge.svg\" alt=\"Open In Colab\"/></a>"
      ]
    },
    {
      "cell_type": "markdown",
      "source": [
        "uma váriavel - verdadeiro e falso"
      ],
      "metadata": {
        "id": "3yIOmE0rk9Id"
      }
    },
    {
      "cell_type": "code",
      "execution_count": null,
      "metadata": {
        "id": "_sQs3cnJk8H2"
      },
      "outputs": [],
      "source": [
        "x = int(input(\"valor: \"))\n",
        "if x > 500;\n",
        "  print(\"Aplicar desconto!\")\n",
        "else :\n",
        "  print(\"Valor fora de desconto\")"
      ]
    },
    {
      "cell_type": "code",
      "source": [
        "peso = float(input('Digite o peso: '))\n",
        "if (peso > 130):\n",
        "  print('Acima do peso!')\n",
        "if ((peso >=50) and (peso <= 130)):\n",
        "  print('Dentro do peso recomendado')\n",
        "if (peso < 50):\n",
        " print('Peso abaixo do normal ')"
      ],
      "metadata": {
        "colab": {
          "base_uri": "https://localhost:8080/"
        },
        "id": "-BKHuRQDmnQj",
        "outputId": "9d75c729-a865-4156-904b-603059f6bea0"
      },
      "execution_count": null,
      "outputs": [
        {
          "output_type": "stream",
          "name": "stdout",
          "text": [
            "Digite o peso: 70\n",
            "Dentro do peso recomendado\n"
          ]
        }
      ]
    },
    {
      "cell_type": "code",
      "source": [
        "peso2 = float(input('Peso: '))\n",
        "if (peso >= 130):\n",
        "  print('Acima do peso')\n",
        "elif (peso >= 50):\n",
        "  print('Peso normal')\n",
        "else:\n",
        "  print('Abaixo do peso')"
      ],
      "metadata": {
        "id": "4xAsry2mmm_V"
      },
      "execution_count": null,
      "outputs": []
    },
    {
      "cell_type": "code",
      "source": [
        "ec = input('Digite seu estado civil de acordo com os valores; A = Amasiado D = Divorciado S = Solteiro V = Viuvo:')\n",
        "x = ec.upper();\n",
        "if x == 'C' : print('Casado')\n",
        "elif x == 'A' : print('Amasiado')\n",
        "elif x == 'S' : print('Solteiro')\n",
        "elif x == 'D' : print('Divorciado')\n",
        "elif x == 'V' : print('Viuvo')\n",
        "else: print('Informação Inválida')"
      ],
      "metadata": {
        "colab": {
          "base_uri": "https://localhost:8080/"
        },
        "id": "h9wRe9d2xjXA",
        "outputId": "6a99399a-7296-4a96-abf2-b10df35e7d2b"
      },
      "execution_count": null,
      "outputs": [
        {
          "output_type": "stream",
          "name": "stdout",
          "text": [
            "Digite seu estado civil de acordo com os valores; A = Amasiado D = Divorciado S = Solteiro V = Viuvo:c\n",
            "Casado\n"
          ]
        }
      ]
    },
    {
      "cell_type": "code",
      "source": [
        "genero = input('M = Masculino \\nF = Feminino \\nDigite o Genero: ').upper()\n",
        "if genero not in ('M','F'):\n",
        "  print('Informacao Invalida')\n",
        "elif genero == 'M':\n",
        "  print('Masculino')\n",
        "else:\n",
        "  print('Feminino')"
      ],
      "metadata": {
        "colab": {
          "base_uri": "https://localhost:8080/"
        },
        "id": "ssZl4or-0Nw7",
        "outputId": "e5735d70-cbdf-4043-d4f8-bc9c79d9432a"
      },
      "execution_count": null,
      "outputs": [
        {
          "output_type": "stream",
          "name": "stdout",
          "text": [
            "M = Masculino \n",
            "F = Feminino \n",
            "Digite o Genero: f\n",
            "Feminino\n"
          ]
        }
      ]
    },
    {
      "cell_type": "code",
      "source": [
        "genero = input('M = Masculino \\nF = Feminino \\nDigite o Genero: ').upper()\n",
        "while genero not in ('M','F'):\n",
        "  print('Informacao Invalida')\n",
        "  genero = input('M = Masculino \\nF = Feminino \\nDigite o Genero: ').upper()\n",
        "if genero == 'M':\n",
        "  print('Masculino')\n",
        "else:\n",
        "  print('Feminino')"
      ],
      "metadata": {
        "colab": {
          "base_uri": "https://localhost:8080/"
        },
        "id": "uWwEo_gW1VRe",
        "outputId": "9eaefd6b-876a-4a4c-e97c-c22223d2c404"
      },
      "execution_count": null,
      "outputs": [
        {
          "output_type": "stream",
          "name": "stdout",
          "text": [
            "M = Masculino \n",
            "F = Feminino \n",
            "Digite o Genero: h\n",
            "Informacao Invalida\n",
            "M = Masculino \n",
            "F = Feminino \n",
            "Digite o Genero: m\n",
            "Masculino\n"
          ]
        }
      ]
    },
    {
      "cell_type": "code",
      "source": [
        "nome = input('What is your name?')\n",
        "idade = float(input('What is your age?'))\n",
        "if (idade >= 17):\n",
        "  print(f'{nome} is eligible for a drivers license')\n",
        "else:\n",
        "  print(f'{nome} isnt elighble for a drivers license \\nIts {17 - idade} years away')"
      ],
      "metadata": {
        "colab": {
          "base_uri": "https://localhost:8080/"
        },
        "id": "TqU03J2e2o4W",
        "outputId": "51f0c10f-849e-48c5-c108-e11f7f6d35aa"
      },
      "execution_count": null,
      "outputs": [
        {
          "output_type": "stream",
          "name": "stdout",
          "text": [
            "What is your name?Marcos\n",
            "What is your age?10\n",
            "Marcos isnt elighble for a drivers license \n",
            "Its 7.0 years away\n"
          ]
        }
      ]
    },
    {
      "cell_type": "markdown",
      "source": [
        "2) Faça um Programa que peça um valor e mostre na tela se o valor é positivo ou negativo."
      ],
      "metadata": {
        "id": "MaprSGQyAzSf"
      }
    },
    {
      "cell_type": "code",
      "source": [
        "while True:\n",
        "  num = float(input('Enter a number (enter 0 to exit): '))\n",
        "\n",
        "  if num > 0:\n",
        "    print(\"Positive\")\n",
        "  elif num < 0:\n",
        "    print('Negative')\n",
        "  else:\n",
        "    print('Bye Bye')\n",
        "\n",
        "  if num == 0:\n",
        "    break"
      ],
      "metadata": {
        "colab": {
          "base_uri": "https://localhost:8080/"
        },
        "id": "Q3366Q3I_0ZI",
        "outputId": "d085aa87-3cfd-45ef-c9a6-e617ef26c924"
      },
      "execution_count": null,
      "outputs": [
        {
          "output_type": "stream",
          "name": "stdout",
          "text": [
            "Enter a number (enter 0 to exit): 0\n",
            "Zero\n",
            "Tchau Tchau\n"
          ]
        }
      ]
    },
    {
      "cell_type": "markdown",
      "source": [
        "3) Ler dois valores inteiros e apresentar o valor da diferença (subtração) entre o maior e menor valores lidos."
      ],
      "metadata": {
        "id": "URnnD96nENr1"
      }
    },
    {
      "cell_type": "code",
      "source": [
        "try:\n",
        "  number1 = float(input('Whay is the first number? '))\n",
        "  number2 = float(input('Whay is the second number? '))\n",
        "\n",
        "  difference = abs(number1 - number2)\n",
        "\n",
        "  if number1 > number2:\n",
        "    print(\"The difference between the greater and lesser values is:\", difference)\n",
        "  elif number1 < number2:\n",
        "    print(\"The difference between the greater and lesser values is:\", difference)\n",
        "  else:\n",
        "    print(\"The values are equal, so the difference is 0.\")\n",
        "except:\n",
        "  print('Is not a number')"
      ],
      "metadata": {
        "colab": {
          "base_uri": "https://localhost:8080/"
        },
        "id": "whVQg23HEeen",
        "outputId": "155d13f3-406d-47cc-a929-b4a0a77489ae"
      },
      "execution_count": null,
      "outputs": [
        {
          "output_type": "stream",
          "name": "stdout",
          "text": [
            "Whay is the first number? 1\n",
            "Whay is the second number? f\n",
            "Is not a number\n"
          ]
        }
      ]
    },
    {
      "cell_type": "markdown",
      "source": [
        "4) Faça um Programa que pergunte em que turno você estuda. Peça para digitar M-matutino ou V-Vespertino ou NNoturno. Imprima a mensagem \"Bom Dia!\", \"Boa Tarde!\" ou \"Boa Noite!\" ou \"Valor Inválido!\", conforme o caso."
      ],
      "metadata": {
        "id": "qF3lRtoiGTNW"
      }
    },
    {
      "cell_type": "code",
      "source": [
        "shift = input(\"Which study shift are you in? Enter M for morning, A for afternoon, or N for night: \").upper()\n",
        "\n",
        "if shift == \"M\":\n",
        "    print(\"Good Morning!\")\n",
        "elif shift == \"A\":\n",
        "    print(\"Good Afternoon!\")\n",
        "elif shift == \"N\":\n",
        "    print(\"Good Evening!\")\n",
        "else:\n",
        "    print(\"Invalid value!\")\n"
      ],
      "metadata": {
        "id": "hIHxldf5GT69",
        "colab": {
          "base_uri": "https://localhost:8080/"
        },
        "outputId": "1ea1b573-132a-4454-dbe6-bbb3aa1b196e"
      },
      "execution_count": null,
      "outputs": [
        {
          "output_type": "stream",
          "name": "stdout",
          "text": [
            "Which study shift are you in? Enter M for morning, A for afternoon, or N for night: n\n",
            "Good Evening!\n"
          ]
        }
      ]
    },
    {
      "cell_type": "markdown",
      "source": [
        "5) Ao chegar ao posto de combustível, você gostaria de calcular quanto vai gastar ao encher o tanque. Faça um\n",
        "algoritmo que leia quantos litros ainda restam no tanque, qual a capacidade do tanque, também em litros, e qual o\n",
        "tipo de combustível para abastecer (“A” para álcool e “G” para gasolina). O preço na bomba é de R$ 5,10 para\n",
        "gasolina e R$ 4,50 para álcool. Ao chegar ao posto de combustível, você gostaria de calcular quanto vai gastar ao\n",
        "encher o tanque. Faça um algoritmo que leia quantos litros ainda restam no tanque, qual a capacidade do tanque,\n",
        "também em litros, e qual o tipo de combustível para abastecer (“A” para álcool e “G” para gasolina). O preço na\n",
        "bomba é de R$ 5,10 para gasolina e R$ 4,50 para álcool."
      ],
      "metadata": {
        "id": "vAwbGz_3GYg6"
      }
    },
    {
      "cell_type": "markdown",
      "source": [
        "Sendo assim, converta o algoritmo de solução deste problema abaixo para a linguagem Python:\n",
        "real capacidade, sobra, valorCombustivel, valorPago\n",
        "string combustivel\n",
        "escreva(“Digite a capacidade do tanque: “)\n",
        "leia(capacidade)\n",
        "escreva(“Digite quantos litros ainda tem no tanque: “)\n",
        "leia(sobra)\n",
        "escreva(“Digite o tipo de combustível: “)\n",
        "leia(combustivel)\n",
        "se (combustivel == “A”)\n",
        "{\n",
        "valorCombustivel = 4.5\n",
        "} senao\n",
        "{\n",
        "valorCombustivel = 5.1\n",
        "}\n",
        "valorPago = (capacidade - sobra) * valorCombustivel\n",
        "escreva(“O valor a ser pago é: “, valorPago)\n"
      ],
      "metadata": {
        "id": "6CBBFPCWGcl5"
      }
    },
    {
      "cell_type": "code",
      "source": [
        "capacity = float(input(\"Enter the tank capacity: \"))\n",
        "left = float(input(\"Enter how many liters you have left in the tank: \"))\n",
        "fuel = input(\"Enter the fuel type (A for alcohol, G for gasoline): \").upper()\n",
        "\n",
        "if fuel == \"A\":\n",
        "    fuelValue = 4.5\n",
        "else:\n",
        "    fuelValue = 5.1\n",
        "\n",
        "amountPaid = (capacity - left) * fuelValue\n",
        "print(\"The amount to be paid is:\", amountPaid)"
      ],
      "metadata": {
        "id": "H1Jgv-daGZQa",
        "colab": {
          "base_uri": "https://localhost:8080/"
        },
        "outputId": "745c22d4-0170-44bb-8f48-bfca5f4a68bf"
      },
      "execution_count": null,
      "outputs": [
        {
          "output_type": "stream",
          "name": "stdout",
          "text": [
            "Enter the tank capacity: 50\n",
            "Enter how many liters you have left in the tank: 5\n",
            "Enter the fuel type (A for alcohol, G for gasoline): A\n",
            "The amount to be paid is: 202.5\n"
          ]
        }
      ]
    },
    {
      "cell_type": "markdown",
      "source": [
        "6) Em uma academia, o preço mensal para a natação é:\n",
        "- Criança: R$ 120.00\n",
        "- Infantil: R$ 130.00\n",
        "- Juvenil: R$ 140.00\n",
        "- Adulto: R$ 150.00\n",
        "Essas modalidades são tabeladas de acordo com as seguintes faixas de idades:\n",
        "De 1 a 8 anos: Criança | De 9 a 15 anos: Infantil | De 16 a 20 anos: Juvenil | Acima de 20 anos: Adulto\n",
        "Quem apresentar carteirinha de estudante, terá 20% de desconto no pagamento.\n",
        "Dessa forma, desenvolva um algoritmo que receba o nome, a idade e a confirmação de carteirinha de estudante,\n",
        "representada pela letra ‘S’ para “sim” ou pela letra ‘N’ para “não”.\n",
        "Após a entrada dos dados, calcule e imprima a mensagem na tela seguindo os exemplos abaixo:\n",
        "a) Fulano(a) de Tal, sua categoria é: Infantil e o valor a ser pago é de R$ 130.00\n",
        "b) Fulano(a) de Tal, sua categoria é: Adulto e o valor a ser pago é de R$ 120.00 por apresentar carteirinha de estudante."
      ],
      "metadata": {
        "id": "sDyQzoLXGdiO"
      }
    },
    {
      "cell_type": "code",
      "source": [
        "def calculate_value(name, age, studentCard):\n",
        "    if age >= 1 and age <= 8:\n",
        "        category = \"kid\"\n",
        "        value = 120.00\n",
        "    elif age >= 9 and age <= 15:\n",
        "        category = \"child\"\n",
        "        value = 130.00\n",
        "    elif age >= 16 and age <= 20:\n",
        "        category = \"youth\"\n",
        "        value = 140.00\n",
        "    else:\n",
        "        category = \"adult\"\n",
        "        value = 150.00\n",
        "\n",
        "    if studentCard == 'Y':\n",
        "        value *= 0.8  # Aplicar desconto de 20% para quem tem carteirinha de estudante\n",
        "\n",
        "    print(f\"{name} your category is {category} and the amount to be paid is $ {value:.2f}\")\n",
        "\n",
        "name = input(\"Enter the name: \")\n",
        "age = int(input(\"Enter the age: \"))\n",
        "studentCard = input(\"Do you have a student card? (Y/N): \").upper()\n",
        "\n",
        "calculate_value(name, age, studentCard)"
      ],
      "metadata": {
        "id": "jjwfp4WCGeFE",
        "colab": {
          "base_uri": "https://localhost:8080/"
        },
        "outputId": "a07f2f56-ad13-4d6a-9297-e513b3425eb8"
      },
      "execution_count": null,
      "outputs": [
        {
          "output_type": "stream",
          "name": "stdout",
          "text": [
            "Enter the name: otavio\n",
            "Enter the age: 22\n",
            "Do you have a student card? (Y/N): y\n",
            "otavio your category is adult and the amount to be paid is $ 120.00\n"
          ]
        }
      ]
    },
    {
      "cell_type": "markdown",
      "source": [
        "7) Escreva um algoritmo que entre com o nome e idade de uma pessoa. Quando a idade estiver entre 18 e 37 anos\n",
        "escreva: “Idade adulta 1”. Se a idade estiver entre 38 e 58, escreva “Idade adulta 2”. Caso a idade for menor que 18\n",
        "ou maior que 58 escreva: “Idade Inválida”. Utilize “AND” e “OR”. Ao final, printe uma mensagem na tela,\n",
        "apresentando o nome, a idade e o status da pessoa."
      ],
      "metadata": {
        "id": "P1Vtk_D0Gkux"
      }
    },
    {
      "cell_type": "code",
      "source": [
        "name = input(\"Enter your name: \")\n",
        "age = int(input(\"Enter your age: \"))\n",
        "\n",
        "if age >= 18 and age <= 37:\n",
        "    status = \"Adult age 1\"\n",
        "elif idade >= 38 and age <= 58:\n",
        "    status = \"Adult age 1\"\n",
        "else:\n",
        "    status = \"Invalid age\"\n",
        "\n",
        "print(\"Name:\", name)\n",
        "print(\"Age:\", age)\n",
        "print(\"Status:\", status)"
      ],
      "metadata": {
        "id": "LtOGRromGleT",
        "colab": {
          "base_uri": "https://localhost:8080/"
        },
        "outputId": "2354d968-fe2c-44de-d628-f0619ed5610f"
      },
      "execution_count": null,
      "outputs": [
        {
          "output_type": "stream",
          "name": "stdout",
          "text": [
            "Enter your name: otavio\n",
            "Enter your age: 22\n",
            "Name: otavio\n",
            "Age: 22\n",
            "Status: Adult age 1\n"
          ]
        }
      ]
    },
    {
      "cell_type": "markdown",
      "source": [
        "8) Faça um Programa que verifique se uma letra digitada é vogal ou consoante. Utilize “in” na construção da\n",
        "condicional. Se o caractere digitado não for uma letra de A a Z, escreva: ‘Letra inválida!’"
      ],
      "metadata": {
        "id": "dfzxxprxGnfV"
      }
    },
    {
      "cell_type": "code",
      "source": [
        "letter = input(\"Enter a letter: \").lower()\n",
        "\n",
        "if letter.isalpha():\n",
        "    if letter in ['a', 'e', 'i', 'o', 'u']:\n",
        "        print(\"The letter\", letter.upper(), \"is a vowel.\")\n",
        "    else:\n",
        "        print(\"The letter\", letter.upper(), \"is a consonant.\")\n",
        "else:\n",
        "    print(\"Invalid letter!\")"
      ],
      "metadata": {
        "id": "JheazPO_Gn_P"
      },
      "execution_count": null,
      "outputs": []
    },
    {
      "cell_type": "markdown",
      "source": [
        "9) Faça um algoritmo que leia a sigla de um dos estados do Brasil e informe a qual região ele pertence."
      ],
      "metadata": {
        "id": "qJQmIOGtGp2N"
      }
    },
    {
      "cell_type": "code",
      "source": [
        "estado = input(\"Digite a sigla do estado: \").upper()\n",
        "\n",
        "if estado == \"AC\" or estado == \"AM\" or estado == \"AP\" or estado == \"PA\" or estado == \"RO\" or estado == \"RR\" or estado == \"TO\":\n",
        "    regiao = \"Norte\"\n",
        "elif estado == \"AL\" or estado == \"BA\" or estado == \"CE\" or estado == \"MA\" or estado == \"PB\" or estado == \"PE\" or estado == \"PI\" or estado == \"RN\" or estado == \"SE\":\n",
        "    regiao = \"Nordeste\"\n",
        "elif estado == \"DF\" or estado == \"GO\" or estado == \"MT\" or estado == \"MS\":\n",
        "    regiao = \"Centro-Oeste\"\n",
        "elif estado == \"ES\" or estado == \"MG\" or estado == \"RJ\" or estado == \"SP\":\n",
        "    regiao = \"Sudeste\"\n",
        "elif estado == \"PR\" or estado == \"RS\" or estado == \"SC\":\n",
        "    regiao = \"Sul\"\n",
        "else:\n",
        "    regiao = \"Sigla inválida!\"\n",
        "\n",
        "print(\"O estado\", estado, \"pertence à região\", regiao)"
      ],
      "metadata": {
        "id": "hrAB68fRGqP6",
        "colab": {
          "base_uri": "https://localhost:8080/"
        },
        "outputId": "dbd801a1-fc2e-4d41-802a-109ee83bb536"
      },
      "execution_count": 1,
      "outputs": [
        {
          "output_type": "stream",
          "name": "stdout",
          "text": [
            "Digite a sigla do estado: sp\n",
            "O estado SP pertence à região Sudeste\n"
          ]
        }
      ]
    },
    {
      "cell_type": "markdown",
      "source": [
        "10) Em uma escolinha de Futebol, o pagamento de instrutores é com base em hora/aula. Faça um algoritmo que leia\n",
        "o nível e a quantidade de horas ministradas pelo instrutor para poder calcular seu salário. Sabe-se que o valor da\n",
        "hora/aula pode ser visto a seguir:\n",
        "Nível 1 – R$ 30,00 por hora/aula\n",
        "Nível 2 – R$ 37,50 por hora/aula\n",
        "Nível 3 – R$ 45,00 por hora/aula"
      ],
      "metadata": {
        "id": "VAjRFZ58GrfY"
      }
    },
    {
      "cell_type": "code",
      "source": [
        "level = int(input(\"Enter the instructor's level (1, 2 or 3): \"))\n",
        "hours = int(input(\"Enter the number of hours taught: \"))\n",
        "\n",
        "if level == 1:\n",
        "    value_hours = 30.00\n",
        "elif level == 2:\n",
        "    value_hours = 37.50\n",
        "elif level == 3:\n",
        "    value_hours = 45.00\n",
        "else:\n",
        "    print(\"Invalid level! Please select 1, 2 or 3.\")\n",
        "\n",
        "if level in [1, 2, 3]:\n",
        "    wage = value_hours * hours\n",
        "    print(f\"The instructor's salary is ${wage:.2f}\")"
      ],
      "metadata": {
        "id": "DlMluto8Grwx",
        "colab": {
          "base_uri": "https://localhost:8080/"
        },
        "outputId": "86398380-342a-4cab-eb91-bbfd9902dcfb"
      },
      "execution_count": null,
      "outputs": [
        {
          "output_type": "stream",
          "name": "stdout",
          "text": [
            "Enter the instructor's level (1, 2 or 3): 1\n",
            "Enter the number of hours taught: 45\n",
            "The instructor's salary is $ 1350.00\n"
          ]
        }
      ]
    },
    {
      "cell_type": "markdown",
      "source": [
        "11 Ao final do brasileirão deste ano, deseja-se saber quem foi o artilheiro do campeonato. Faça um algoritmo que leia o nome e o número de gols dos três jogadores com mais gols no brasileirão e mostre o nome do artilheiro.\n"
      ],
      "metadata": {
        "id": "DsdJaVrNpW3v"
      }
    },
    {
      "cell_type": "code",
      "source": [
        "player1_name = input(\"Enter the name of Player 1: \")\n",
        "player1_goals = int(input(\"Enter the number of goals scored by Player 1: \"))\n",
        "\n",
        "player2_name = input(\"Enter the name of Player 2: \")\n",
        "player2_goals = int(input(\"Enter the number of goals scored by Player 2: \"))\n",
        "\n",
        "player3_name = input(\"Enter the name of Player 3: \")\n",
        "player3_goals = int(input(\"Enter the number of goals scored by Player 3: \"))\n",
        "\n",
        "if player1_goals > player2_goals and player1_goals > player3_goals:\n",
        "    top_scorer_name = player1_name\n",
        "elif player2_goals > player1_goals and player2_goals > player3_goals:\n",
        "    top_scorer_name = player2_name\n",
        "else:\n",
        "    top_scorer_name = player3_name\n",
        "\n",
        "print(\"The top scorer of the Brasileirão is:\", top_scorer_name)"
      ],
      "metadata": {
        "id": "ELmFY9YSpXLL",
        "colab": {
          "base_uri": "https://localhost:8080/"
        },
        "outputId": "ac5124f4-f4f4-4a55-8365-f12d54f99fbe"
      },
      "execution_count": 2,
      "outputs": [
        {
          "output_type": "stream",
          "name": "stdout",
          "text": [
            "Enter the name of Player 1: Player1\n",
            "Enter the number of goals scored by Player 1: 15\n",
            "Enter the name of Player 2: Player2\n",
            "Enter the number of goals scored by Player 2: 20\n",
            "Enter the name of Player 3: Player3\n",
            "Enter the number of goals scored by Player 3: 25\n",
            "The top scorer of the Brasileirão is: Player3\n"
          ]
        }
      ]
    },
    {
      "cell_type": "markdown",
      "source": [
        "12 Faça um algoritmo que receba os seguintes dados de um determinado aluno: Nome do aluno; Nome da disciplina; Valor da nota de Avaliação Contínua (AC); Valor da nota de Avaliação Final (AF); Nota de atividades (AT)\n",
        "Regras para gerar o status do aluno: Média de 0 a 3.9: “Reprovado!”|4 a 5.9: “Exame!” | acima de 5.9: “Aprovado!”\n",
        "Calcule a média e escreva uma mensagem conforme os modelos abaixo:\n",
        "O aluno Claudemir obteve a média 7 na Disciplina Algoritmos e seu status é: Aprovado!\n",
        "O aluno Túlio obteve a média 4,5 na Disciplina Algoritmos e seu status é: Exame!"
      ],
      "metadata": {
        "id": "ZPRxEeV9pXdS"
      }
    },
    {
      "cell_type": "code",
      "source": [
        "name_student = input(\"Enter the student's name: \")\n",
        "name_curse = input(\"Enter the name of the course: \")\n",
        "grade_ce = float(input(\"Enter the value of the Continuous Evaluation (CE): \"))\n",
        "grade_fe = float(input(\"Enter the value of the Final Evaluation (FE): \"))\n",
        "grade_at = float(input(\"Enter the value of the activity (AT): \"))\n",
        "\n",
        "media = (grade_ce + grade_fe + grade_at) / 3\n",
        "\n",
        "if media <= 3.9:\n",
        "    status = \"Reproved!\"\n",
        "elif media <= 5.9:\n",
        "    status = \"Test!\"\n",
        "else:\n",
        "    status = \"Approved!\"\n",
        "\n",
        "print(f\"The student {name_student} obtained an average of {media} in the {name_curse} subject and his status is: {status}\")"
      ],
      "metadata": {
        "colab": {
          "base_uri": "https://localhost:8080/"
        },
        "id": "rGUoe3kapX62",
        "outputId": "0c726a48-9649-4dae-e637-8d3bf15f61a6"
      },
      "execution_count": null,
      "outputs": [
        {
          "output_type": "stream",
          "name": "stdout",
          "text": [
            "Enter the student's name: otavio\n",
            "Enter the name of the course: dp\n",
            "Enter the value of the Continuous Evaluation (CE): 4\n",
            "Enter the value of the Final Evaluation (FE): 2\n",
            "Enter the value of the activity (AT): 10\n",
            "The student otavio obtained an average of 5.333333333333333 in the dp subject and his status is: Test!\n"
          ]
        }
      ]
    },
    {
      "cell_type": "markdown",
      "source": [
        "13 Faça um algoritmo que receba o nome e o salário de um funcionário e calcule conforme as regras:\n",
        "Salários abaixo de R$ 1.000,00: aumento de 40% | entre 1.000,00 e R$ 1.999,00: aumento de 30%\n",
        "Salários entre R$ 2.000,00 até R$ 2.999,00: aumento de 20% |Acima de R$ 3.000,00: calcular 10%\n",
        "O algoritmo deverá calcular e escrever o resultado conforme o modelo: Fulano, o valor de aumento do seu salário foi XXX reais e o seu novo salário será yyyy reais."
      ],
      "metadata": {
        "id": "1v46XjQCpYqd"
      }
    },
    {
      "cell_type": "code",
      "source": [
        "name = input(\"Enter employee name: \")\n",
        "salary = float(input(\"Enter employee salary: \"))\n",
        "\n",
        "if salary < 1000:\n",
        "    increase = salary * 0.4\n",
        "elif salary < 2000:\n",
        "    increase = salary * 0.3\n",
        "elif salary < 3000:\n",
        "    increase = salary * 0.2\n",
        "else:\n",
        "    increase = salary * 0.1\n",
        "\n",
        "new_salary = salary + increase\n",
        "\n",
        "print(f\"{name}, the amount of your salary increase is ${increase:.2f} and your new salary will be ${new_salary:.2f}.\")"
      ],
      "metadata": {
        "id": "z6VbWvHRpY8F",
        "colab": {
          "base_uri": "https://localhost:8080/"
        },
        "outputId": "55031265-553c-4206-e2e3-e6a38c5a5a05"
      },
      "execution_count": 3,
      "outputs": [
        {
          "output_type": "stream",
          "name": "stdout",
          "text": [
            "Enter employee name: Otavio\n",
            "Enter employee salary: 3000\n",
            "Otavio, the amount of your salary increase is $300.00 and your new salary will be $3300.00.\n"
          ]
        }
      ]
    },
    {
      "cell_type": "markdown",
      "source": [
        "14 Elabore um algoritmo que leia o valor de dois números inteiros e a operação aritmética desejada “+ - * / “. Calcule a resposta e escreva o resultado na tela."
      ],
      "metadata": {
        "id": "n0jHU6eGpZQa"
      }
    },
    {
      "cell_type": "code",
      "source": [
        "num1 = int(input(\"Enter the first number: \"))\n",
        "num2 = int(input(\"Enter the second number: \"))\n",
        "operator = input(\"Enter the arithmetic operation (+, -, *, /): \")\n",
        "\n",
        "if operator == \"+\":\n",
        "   result = num1 + num2\n",
        "elif operator == \"-\":\n",
        "   result = num1 - num2\n",
        "elif operator == \"*\":\n",
        "   result = num1 * num2\n",
        "elif operator == \"/\":\n",
        "   result = num1 / num2\n",
        "else:\n",
        "   print(\"Invalid operator!\")\n",
        "\n",
        "print(\"The result is:\", result)"
      ],
      "metadata": {
        "colab": {
          "base_uri": "https://localhost:8080/"
        },
        "id": "pEQR3ELfpZeZ",
        "outputId": "7ea67f35-fa1b-4804-e8be-9aa353ed2f16"
      },
      "execution_count": null,
      "outputs": [
        {
          "output_type": "stream",
          "name": "stdout",
          "text": [
            "Enter the first number: 10\n",
            "Enter the second number: 4\n",
            "Enter the arithmetic operation (+, -, *, /): *\n",
            "The result is: 40\n"
          ]
        }
      ]
    },
    {
      "cell_type": "markdown",
      "source": [
        "15 Escreva um algoritmo que receba o nome e total de votos de três candidatos para gestão de um condomínio. O algoritmo deverá responder nesta ordem:\n",
        " - O primeiro colocado foi: Fulano de tal, com X% dos votos.\n",
        "- O segundo colocado foi: Ciclano de tal, com y% dos votos.\n",
        "- O terceiro colocado foi: Beltrano de tal, com M% dos votos."
      ],
      "metadata": {
        "id": "IwPnNKPzpZ0V"
      }
    },
    {
      "cell_type": "code",
      "source": [
        "candidate1_name = input(\"Enter the name of the first candidate: \")\n",
        "candidate1_votes = int(input(\"Enter the total votes for the first candidate: \"))\n",
        "\n",
        "candidate2_name = input(\"Enter the name of the second candidate: \")\n",
        "candidate2_votes = int(input(\"Enter the total votes for the second candidate: \"))\n",
        "\n",
        "candidate3_name = input(\"Enter the name of the third candidate: \")\n",
        "candidate3_votes = int(input(\"Enter the total votes for the third candidate: \"))\n",
        "\n",
        "total_votes = candidate1_votes + candidate2_votes + candidate3_votes\n",
        "\n",
        "candidate1_percentage = (candidate1_votes / total_votes) * 100\n",
        "candidate2_percentage = (candidate2_votes / total_votes) * 100\n",
        "candidate3_percentage = (candidate3_votes / total_votes) * 100\n",
        "\n",
        "if candidate1_votes > candidate2_votes and candidate1_votes > candidate3_votes:\n",
        "    firt_place = candidate1_name\n",
        "    if candidate2_votes > candidate3_votes:\n",
        "        second_place = candidate2_name\n",
        "        third_place = candidate3_name\n",
        "    else:\n",
        "        second_place = candidate3_name\n",
        "        third_place = candidate2_name\n",
        "elif candidate2_votes > candidate1_votes and candidate2_votes > candidate3_votes:\n",
        "    firt_place = candidate2_name\n",
        "    if candidate1_votes > candidate3_votes:\n",
        "        second_place = candidate1_name\n",
        "        third_place = candidate3_name\n",
        "    else:\n",
        "        second_place = candidate3_name\n",
        "        third_place = candidate1_name\n",
        "else:\n",
        "    firt_place = candidate3_name\n",
        "    if candidate1_votes > candidate2_votes:\n",
        "        second_place = candidate1_name\n",
        "        third_place = candidate2_name\n",
        "    else:\n",
        "        second_place = candidate2_name\n",
        "        third_place = candidate1_name\n",
        "\n",
        "print(f\"The first place goes to: {firt_place}.\")\n",
        "print(f\"The second place goes to: {second_place}.\")\n",
        "print(f\"The third place goes to: {third_place}.\")"
      ],
      "metadata": {
        "id": "0l3IxEizpaBC",
        "colab": {
          "base_uri": "https://localhost:8080/"
        },
        "outputId": "d0e1fd7a-474a-4293-d358-4f5943b989cd"
      },
      "execution_count": 6,
      "outputs": [
        {
          "output_type": "stream",
          "name": "stdout",
          "text": [
            "Enter the name of the first candidate: CandidateA\n",
            "Enter the total votes for the first candidate: 1000\n",
            "Enter the name of the second candidate: CandidateB\n",
            "Enter the total votes for the second candidate: 1200\n",
            "Enter the name of the third candidate: CandidateC\n",
            "Enter the total votes for the third candidate: 1400\n",
            "The first place goes to: CandidateC, with 27.78% of the votes.\n",
            "The second place goes to: CandidateB, with 33.33% of the votes.\n",
            "The third place goes to: CandidateA, with 38.89% of the votes.\n"
          ]
        }
      ]
    },
    {
      "cell_type": "markdown",
      "source": [
        "16 Faça um algoritmo que receba a idade e o peso de uma pessoa. De acordo com a tabela, verifique e mostre qual o grupo de risco essa pessoa se encaixa apresentando na tela o modelo de resposta: Você se encaixa no Grupo 9: Menores de 20 anos e até 60 quilos!"
      ],
      "metadata": {
        "id": "l2RstYivpaXT"
      }
    },
    {
      "cell_type": "code",
      "source": [
        "age = int(input(\"Enter your age: \"))\n",
        "weight = float(input(\"Enter your weight in kilograms: \"))\n",
        "\n",
        "if age < 20 and weight <= 60:\n",
        "    print(\"You belong to Group 1: Under 20 years old and up to 60 kilograms!\")\n",
        "if age > 20 and weight <= 60:\n",
        "    print(\"You belong to Group 2: more than 20 years old and up to 60 kilograms!\")\n",
        "if age < 20 and weight >= 60:\n",
        "    print(\"You belong to Group 3: Under 20 years old and over 60 kilos!\")\n",
        "if age > 20 and weight >= 60:\n",
        "    print(\"You belong to Group 4: more than 20 years old and over 60 kilos!\")"
      ],
      "metadata": {
        "id": "GH-k-IObpaj4",
        "colab": {
          "base_uri": "https://localhost:8080/"
        },
        "outputId": "cb60a0b3-a8cf-4e93-df1c-1652f6348007"
      },
      "execution_count": 11,
      "outputs": [
        {
          "output_type": "stream",
          "name": "stdout",
          "text": [
            "Enter your age: 22\n",
            "Enter your weight in kilograms: 68\n",
            "You belong to Group 4: more than 20 years old and over 60 kilos!\n"
          ]
        }
      ]
    },
    {
      "cell_type": "markdown",
      "source": [
        "17 Um mercado está vendendo frutas com a seguinte tabela de preços. ...Se o cliente comprar mais de 8 Kg em frutas ou o valor total da compra ultrapassar R$ 25,00, receberá ainda um desconto de 10% sobre este total. Escreva um algoritmo para ler a quantidade (em Kg) de morangos e a quantidade (em Kg) de maças adquiridas e escreva o valor a ser pago pelo cliente."
      ],
      "metadata": {
        "id": "prBwtjSVpa6y"
      }
    },
    {
      "cell_type": "code",
      "source": [
        "def calculate_total_cost(strawberry_quantity, apple_quantity):\n",
        "    total_cost = (strawberry_quantity * 2.5) + (apple_quantity * 1.8)\n",
        "\n",
        "    if strawberry_quantity + apple_quantity > 8 or total_cost > 25:\n",
        "        total_cost *= 0.9\n",
        "    return total_cost\n",
        "\n",
        "strawberry_quantity = float(input(\"Enter the quantity of strawberries (in kg): \"))\n",
        "apple_quantity = float(input(\"Enter the quantity of apples (in kg): \"))\n",
        "\n",
        "final_cost = calculate_total_cost(strawberry_quantity, apple_quantity)\n",
        "print(\"The total cost is: $\", final_cost)"
      ],
      "metadata": {
        "id": "NW-nx_AtpbGI",
        "colab": {
          "base_uri": "https://localhost:8080/"
        },
        "outputId": "1391b2ee-4a47-4309-d6d4-f67318971927"
      },
      "execution_count": 12,
      "outputs": [
        {
          "output_type": "stream",
          "name": "stdout",
          "text": [
            "Enter the quantity of strawberries (in kg): 2\n",
            "Enter the quantity of apples (in kg): 3\n",
            "The total cost is: $ 10.4\n"
          ]
        }
      ]
    },
    {
      "cell_type": "markdown",
      "source": [
        "18 Desenvolva um algoritmo que receba valores diferentes para três variáveis do tipo inteiro e escreva os valores em ordem crescente"
      ],
      "metadata": {
        "id": "Zcl3b0fopbSJ"
      }
    },
    {
      "cell_type": "code",
      "source": [
        "\n",
        "2num1 = int(input(\"Enter the first value: \"))\n",
        "num2 = int(input(\"Enter the second value: \"))\n",
        "num3 = int(input(\"Enter the third value: \"))\n",
        "\n",
        "values = [num1, num2, num3]\n",
        "\n",
        "values.sort()\n",
        "\n",
        "print(\"Values in ascending order:\", values[0], values[1], values[2])"
      ],
      "metadata": {
        "id": "NEbr5sLBpbdw",
        "colab": {
          "base_uri": "https://localhost:8080/"
        },
        "outputId": "4cdc3a83-4028-4ec3-902e-541732649a51"
      },
      "execution_count": 14,
      "outputs": [
        {
          "output_type": "stream",
          "name": "stdout",
          "text": [
            "Enter the first value: 40\n",
            "Enter the second value: 30\n",
            "Enter the third value: 20\n",
            "Values in ascending order: 20 30 40\n"
          ]
        }
      ]
    },
    {
      "cell_type": "markdown",
      "source": [
        "19 Faça um algoritmo que receba quatro números inteiros e escreva uma mensagem apontando qual é o maior."
      ],
      "metadata": {
        "id": "lgidM0gFpbxG"
      }
    },
    {
      "cell_type": "code",
      "source": [
        "num1 = int(input(\"Enter the first number: \"))\n",
        "num2 = int(input(\"Enter the second number: \"))\n",
        "num3 = int(input(\"Enter the third number: \"))\n",
        "num4 = int(input(\"Enter the fourth number: \"))\n",
        "\n",
        "biggest = max(num1, num2, num3, num4)\n",
        "\n",
        "print(f\"The biggest number is: {biggest}\")"
      ],
      "metadata": {
        "id": "8WveB9wIpcAu",
        "colab": {
          "base_uri": "https://localhost:8080/"
        },
        "outputId": "b610b18c-b945-470a-85bf-e57dc9da274b"
      },
      "execution_count": 16,
      "outputs": [
        {
          "output_type": "stream",
          "name": "stdout",
          "text": [
            "Enter the first number: 30\n",
            "Enter the second number: 40\n",
            "Enter the third number: 50\n",
            "Enter the fourth number: 0\n",
            "The biggest number is:50\n"
          ]
        }
      ]
    },
    {
      "cell_type": "markdown",
      "source": [
        "20 Sabendo que na linguagem C, o comando scanf efetua a leitura do valor da variável pelo usuário, e as duas barras retas “||” representam a condição or no python, converta o programa abaixo para a linguagem Python:\n",
        "#include\n",
        " main()\n",
        " {\n",
        " int dia,mes,ano;\n",
        " printf(\"Qual dia voce nasceu\\n\");\n",
        " scanf(\"%d\",&dia);\n",
        " if ((dia<1)||(dia>31))\n",
        " {\n",
        " printf(\"dia invalido\");\n",
        " }\n",
        "printf(\"Qual mes voce nasceu\\n\");\n",
        " scanf(\"%d\",&mes);\n",
        " if ((mes<1)||(mes>12))\n",
        " {\n",
        " printf(\"mes invalido\");\n",
        " }\n",
        " printf(\"Qual ano voce nasceu\\n\");\n",
        " scanf(\"%d\",&ano);\n",
        " if ((ano<1900)||(ano>2013))\n",
        " {\n",
        " printf(\"ano invalido\");\n",
        " }\n",
        " printf(\"%d/%d/%d data valida\",dia,mes,ano);\n",
        " }"
      ],
      "metadata": {
        "id": "OBVlUu3wpcYm"
      }
    },
    {
      "cell_type": "code",
      "source": [
        "day = int(input(\"Enter your day of birth: \"))\n",
        "if day < 1 or day > 31:\n",
        "    print(\"Invalid day\")\n",
        "\n",
        "month = int(input(\"Enter your month of birth: \"))\n",
        "if month < 1 or month > 12:\n",
        "    print(\"Invalid month\")\n",
        "\n",
        "year = int(input(\"Enter your year of birth: \"))\n",
        "if year < 1900 or year > 2023:\n",
        "    print(\"Invalid year\")\n",
        "\n",
        "if day >= 1 and day <= 31 and month >= 1 and month <= 12 and year >= 1900 and year <= 2023:\n",
        "    print(f\"{day}/{month}/{year} is a valid date\")"
      ],
      "metadata": {
        "id": "-_HOVmsqpcke",
        "colab": {
          "base_uri": "https://localhost:8080/"
        },
        "outputId": "5a7cd739-10a0-485c-dd40-01a3cf45b84d"
      },
      "execution_count": 17,
      "outputs": [
        {
          "output_type": "stream",
          "name": "stdout",
          "text": [
            "Enter your day of birth: 10\n",
            "Enter your month of birth: 07\n",
            "Enter your year of birth: 2001\n",
            "10/7/2001 is a valid date\n"
          ]
        }
      ]
    }
  ]
}